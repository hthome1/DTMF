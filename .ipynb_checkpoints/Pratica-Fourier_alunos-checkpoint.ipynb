{
 "cells": [
  {
   "cell_type": "markdown",
   "metadata": {},
   "source": [
    "Camada Física da Computação 2020/2\n",
    "\n",
    "Aula 14  - **Prática em Fourier**\n",
    "\n",
    "Rodrigo Carareto rodrigoc5@insper.edu.br"
   ]
  },
  {
   "cell_type": "code",
   "execution_count": 85,
   "metadata": {},
   "outputs": [],
   "source": [
    "%matplotlib inline\n",
    "import matplotlib.pyplot as plt\n",
    "import numpy as np\n",
    "from scipy import signal\n",
    "from scipy.fftpack import fft, fftshift"
   ]
  },
  {
   "cell_type": "code",
   "execution_count": 86,
   "metadata": {},
   "outputs": [],
   "source": [
    "def generateSin(freq, time, fs):\n",
    "    n = time*fs #numero de pontos\n",
    "    x = np.linspace(0.0, time, n)  # eixo do tempo\n",
    "    s = np.sin(freq*x*2*np.pi)\n",
    "    return (x, s)"
   ]
  },
  {
   "cell_type": "code",
   "execution_count": 87,
   "metadata": {},
   "outputs": [],
   "source": [
    "def calcFFT(signal, fs):\n",
    "    # https://docs.scipy.org/doc/scipy/reference/tutorial/fftpack.html\n",
    "    #y  = np.append(signal, np.zeros(len(signal)*fs))\n",
    "    N  = len(signal)\n",
    "    T  = 1/fs\n",
    "    xf = np.linspace(-1.0/(2.0*T), 1.0/(2.0*T), N)\n",
    "    yf = fft(signal)\n",
    "    return(xf, fftshift(yf))"
   ]
  },
  {
   "cell_type": "markdown",
   "metadata": {},
   "source": [
    "## Propriedades dos sinais "
   ]
  },
  {
   "cell_type": "code",
   "execution_count": 88,
   "metadata": {},
   "outputs": [],
   "source": [
    "fs  = 200   # pontos por segundo (frequência de amostragem)\n",
    "A   = 1.5   # Amplitude\n",
    "F   = 1     # Hz\n",
    "T   = 4     # Tempo em que o seno será gerado\n",
    "t   = np.linspace(-T/2,T/2,T*fs)"
   ]
  },
  {
   "cell_type": "markdown",
   "metadata": {},
   "source": [
    "# Prática em Fourier"
   ]
  },
  {
   "cell_type": "markdown",
   "metadata": {},
   "source": [
    "## Senoide única\n",
    "\n",
    " - Gere uma senoide de 5Hz \n",
    "\n",
    "### Para analisar :\n",
    "\n",
    " - Exiba o sinal no tempo e o Fourier do mesmo (módulo e fase)\n",
    " - Analíse a composição espectal desse sinal.\n",
    " - Calcule a banda do sinal"
   ]
  },
  {
   "cell_type": "code",
   "execution_count": null,
   "metadata": {
    "scrolled": true
   },
   "outputs": [],
   "source": []
  },
  {
   "cell_type": "markdown",
   "metadata": {},
   "source": [
    "## Senoides \n",
    "\n",
    " - Gere duas senoide de mesma amplitude e frequência 5Hz e 8Hz\n",
    " \n",
    "### Para analisar :\n",
    " \n",
    " - Exiba o sinal no tempo e o Fourier do mesmo (módulo)\n",
    " - Analíse a composição espectal desse sinal.\n",
    " - Calcule a banda do sinal"
   ]
  },
  {
   "cell_type": "code",
   "execution_count": null,
   "metadata": {},
   "outputs": [],
   "source": []
  },
  {
   "cell_type": "markdown",
   "metadata": {},
   "source": [
    "## Onda Quadrada nivel DC = 0\n",
    "\n",
    " - Gere uma onda quadrada em torno do eixo X de amplitude 3 e frequência 1Hz \n",
    "     - dica : signal.square \n",
    "     \n",
    "### Para analisar :\n",
    " \n",
    " - Exiba o sinal no tempo e o Fourier do mesmo (módulo e fase)\n",
    " - Analíse a composição espectal desse sinal.\n",
    " - Calcule a banda do sinal\n"
   ]
  },
  {
   "cell_type": "code",
   "execution_count": null,
   "metadata": {},
   "outputs": [],
   "source": [
    "\n",
    "\n"
   ]
  },
  {
   "cell_type": "markdown",
   "metadata": {},
   "source": [
    "## Pulso\n",
    "\n",
    " - Gere um pulso em torno da origem de duração (1.5s, 1s, 0.5s, 0.025s)\n",
    "     - dica : signal.square \n",
    "     \n",
    "### Para analisar\n",
    "     \n",
    " - Exiba o sinal no tempo e o Fourier dos sinais (módulo )\n",
    " - Analíse a composição espectal dos pulsos (com duração distintas)\n",
    " - Calcule as bandas dos sinais\n"
   ]
  },
  {
   "cell_type": "code",
   "execution_count": null,
   "metadata": {},
   "outputs": [],
   "source": []
  },
  {
   "cell_type": "code",
   "execution_count": null,
   "metadata": {
    "scrolled": false
   },
   "outputs": [],
   "source": []
  },
  {
   "cell_type": "code",
   "execution_count": null,
   "metadata": {},
   "outputs": [],
   "source": []
  },
  {
   "cell_type": "code",
   "execution_count": null,
   "metadata": {},
   "outputs": [],
   "source": []
  }
 ],
 "metadata": {
  "kernelspec": {
   "display_name": "Python 3",
   "language": "python",
   "name": "python3"
  },
  "language_info": {
   "codemirror_mode": {
    "name": "ipython",
    "version": 3
   },
   "file_extension": ".py",
   "mimetype": "text/x-python",
   "name": "python",
   "nbconvert_exporter": "python",
   "pygments_lexer": "ipython3",
   "version": "3.6.4"
  }
 },
 "nbformat": 4,
 "nbformat_minor": 2
}
