{
 "cells": [
  {
   "cell_type": "code",
   "execution_count": 2,
   "metadata": {},
   "outputs": [],
   "source": [
    "%matplotlib inline\n",
    "import matplotlib.pyplot as plt\n",
    "import numpy as np\n",
    "from scipy import signal\n",
    "from scipy.fftpack import fft, fftshift\n",
    "import suaBibSignal as sb\n",
    "import sounddevice as sd\n",
    "import matplotlib.pyplot as plt\n",
    "import soundfile   as sf\n",
    "import peakutils"
   ]
  },
  {
   "cell_type": "code",
   "execution_count": 3,
   "metadata": {},
   "outputs": [],
   "source": [
    "fs  = 4000   # pontos por segundo (frequência de amostragem)\n",
    "A   = 1.5   # Amplitude\n",
    "F   = 1     # Hz\n",
    "T   = 4     # Tempo em que o seno será gerado\n",
    "t   = np.linspace(-T/2,T/2,T*fs)"
   ]
  },
  {
   "cell_type": "code",
   "execution_count": 17,
   "metadata": {},
   "outputs": [],
   "source": [
    "frequencias = [697, 770, 852, 941, 1209, 1336, 1477, 1633]"
   ]
  },
  {
   "cell_type": "code",
   "execution_count": 5,
   "metadata": {},
   "outputs": [],
   "source": [
    "teclas = {\n",
    "    \"1\": [frequencias[0],frequencias[4]],\n",
    "    \"2\": [frequencias[0],frequencias[5]],\n",
    "    \"3\": [frequencias[0],frequencias[6]],\n",
    "    \"4\": [frequencias[1],frequencias[4]],\n",
    "    \"5\": [frequencias[1],frequencias[5]],\n",
    "    \"6\": [frequencias[1],frequencias[6]],\n",
    "    \"7\": [frequencias[2],frequencias[4]],\n",
    "    \"8\": [frequencias[2],frequencias[5]],\n",
    "    \"9\": [frequencias[2],frequencias[6]],\n",
    "    \"0\": [frequencias[3],frequencias[5]],\n",
    "    \"X\": [frequencias[3],frequencias[4]],\n",
    "    \"#\": [frequencias[3],frequencias[6]],\n",
    "    \"A\": [frequencias[0],frequencias[7]],\n",
    "    \"B\": [frequencias[1],frequencias[7]],\n",
    "    \"C\": [frequencias[2],frequencias[7]],\n",
    "    \"D\": [frequencias[3],frequencias[7]]\n",
    "    \n",
    "}"
   ]
  },
  {
   "cell_type": "code",
   "execution_count": 20,
   "metadata": {},
   "outputs": [
    {
     "name": "stdout",
     "output_type": "stream",
     "text": [
      "Qual tecla gostaria de enviar?: D\n"
     ]
    }
   ],
   "source": [
    "tecla_selecionada = input(\"Qual tecla gostaria de enviar?: \")"
   ]
  },
  {
   "cell_type": "code",
   "execution_count": 21,
   "metadata": {},
   "outputs": [],
   "source": [
    "sin1, sin2 = teclas.get(tecla_selecionada)"
   ]
  },
  {
   "cell_type": "code",
   "execution_count": 22,
   "metadata": {},
   "outputs": [
    {
     "name": "stdout",
     "output_type": "stream",
     "text": [
      "Soma das frequencias 941 com 1633\n"
     ]
    }
   ],
   "source": [
    "print(\"Soma das frequencias {} com {}\".format(sin1, sin2))"
   ]
  },
  {
   "cell_type": "code",
   "execution_count": 23,
   "metadata": {},
   "outputs": [],
   "source": [
    "signal = sb.signalMeu()"
   ]
  },
  {
   "cell_type": "code",
   "execution_count": 24,
   "metadata": {},
   "outputs": [],
   "source": [
    "x, y = signal.generateSin(sin1, A, T,fs)"
   ]
  },
  {
   "cell_type": "code",
   "execution_count": 25,
   "metadata": {},
   "outputs": [],
   "source": [
    "x2, y2 = signal.generateSin(sin2, A, T,fs)"
   ]
  },
  {
   "cell_type": "code",
   "execution_count": 26,
   "metadata": {},
   "outputs": [
    {
     "data": {
      "text/plain": [
       "[<matplotlib.lines.Line2D at 0x117ccf940>]"
      ]
     },
     "execution_count": 26,
     "metadata": {},
     "output_type": "execute_result"
    },
    {
     "data": {
      "image/png": "[encoded data removed]",
      "text/plain": [
       "<matplotlib.figure.Figure at 0x117bf76d8>"
      ]
     },
     "metadata": {},
     "output_type": "display_data"
    }
   ],
   "source": [
    "yf = y + y2\n",
    "plt.figure()\n",
    "plt.title(\"Onda resultante\")\n",
    "plt.plot(t, yf, '.-')"
   ]
  },
  {
   "cell_type": "code",
   "execution_count": 27,
   "metadata": {},
   "outputs": [],
   "source": [
    "sf.write('tecla.wav', yf, fs)"
   ]
  },
  {
   "cell_type": "code",
   "execution_count": 29,
   "metadata": {},
   "outputs": [],
   "source": [
    "sd.play(yf)\n",
    "sd.wait()"
   ]
  },
  {
   "cell_type": "code",
   "execution_count": null,
   "metadata": {},
   "outputs": [],
   "source": []
  },
  {
   "cell_type": "code",
   "execution_count": null,
   "metadata": {},
   "outputs": [],
   "source": []
  },
  {
   "cell_type": "code",
   "execution_count": null,
   "metadata": {},
   "outputs": [],
   "source": []
  }
 ],
 "metadata": {
  "kernelspec": {
   "display_name": "Python 3",
   "language": "python",
   "name": "python3"
  },
  "language_info": {
   "codemirror_mode": {
    "name": "ipython",
    "version": 3
   },
   "file_extension": ".py",
   "mimetype": "text/x-python",
   "name": "python",
   "nbconvert_exporter": "python",
   "pygments_lexer": "ipython3",
   "version": "3.6.4"
  }
 },
 "nbformat": 4,
 "nbformat_minor": 2
}
