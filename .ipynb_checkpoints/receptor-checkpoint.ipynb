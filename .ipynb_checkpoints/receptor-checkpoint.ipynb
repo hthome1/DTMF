{
 "cells": [
  {
   "cell_type": "code",
   "execution_count": 53,
   "metadata": {},
   "outputs": [],
   "source": [
    "%matplotlib inline\n",
    "import matplotlib.pyplot as plt\n",
    "import numpy as np\n",
    "from scipy import signal\n",
    "from scipy.fftpack import fft, fftshift\n",
    "import suaBibSignal as sb\n",
    "import sounddevice as sd\n",
    "import matplotlib.pyplot as plt\n",
    "import soundfile   as sf\n",
    "import time\n",
    "import peakutils\n",
    "\n"
   ]
  },
  {
   "cell_type": "code",
   "execution_count": 54,
   "metadata": {},
   "outputs": [],
   "source": [
    "def LPF(signal, cutoff_hz, fs):\n",
    "        from scipy import signal as sg\n",
    "        #####################\n",
    "        # Filtro\n",
    "        #####################\n",
    "        # https://scipy.github.io/old-wiki/pages/Cookbook/FIRFilter.html\n",
    "        nyq_rate = fs/2\n",
    "        width = 5.0/nyq_rate\n",
    "        ripple_db = 60.0 #dB\n",
    "        N , beta = sg.kaiserord(ripple_db, width)\n",
    "        taps = sg.firwin(N, cutoff_hz/nyq_rate, window=('kaiser', beta))\n",
    "        return( sg.lfilter(taps, 1.0, signal))"
   ]
  },
  {
   "cell_type": "code",
   "execution_count": 55,
   "metadata": {},
   "outputs": [],
   "source": [
    "fs  = 44100   # pontos por segundo (frequência de amostragem)\n",
    "A   = 1.5   # Amplitude\n",
    "F   = 1     # Hz\n",
    "T   = 4     # Tempo em que o seno será gerado\n",
    "t   = np.linspace(-T/2,T/2,T*fs)\n",
    "signal = sb.signalMeu()"
   ]
  },
  {
   "cell_type": "code",
   "execution_count": 56,
   "metadata": {},
   "outputs": [],
   "source": [
    "frequencias = [697, 770, 852, 941, 1209, 1336, 1477, 1633]"
   ]
  },
  {
   "cell_type": "code",
   "execution_count": 57,
   "metadata": {},
   "outputs": [],
   "source": [
    "teclas = {\n",
    "    \"1\": [frequencias[0],frequencias[4]],\n",
    "    \"2\": [frequencias[0],frequencias[5]],\n",
    "    \"3\": [frequencias[0],frequencias[6]],\n",
    "    \"4\": [frequencias[1],frequencias[4]],\n",
    "    \"5\": [frequencias[1],frequencias[5]],\n",
    "    \"6\": [frequencias[1],frequencias[6]],\n",
    "    \"7\": [frequencias[2],frequencias[4]],\n",
    "    \"8\": [frequencias[2],frequencias[5]],\n",
    "    \"9\": [frequencias[2],frequencias[6]],\n",
    "    \"0\": [frequencias[3],frequencias[5]],\n",
    "    \"X\": [frequencias[3],frequencias[4]],\n",
    "    \"#\": [frequencias[3],frequencias[6]],\n",
    "    \"A\": [frequencias[0],frequencias[7]],\n",
    "    \"B\": [frequencias[1],frequencias[7]],\n",
    "    \"C\": [frequencias[2],frequencias[7]],\n",
    "    \"D\": [frequencias[3],frequencias[7]]\n",
    "    \n",
    "}"
   ]
  },
  {
   "cell_type": "code",
   "execution_count": 58,
   "metadata": {},
   "outputs": [],
   "source": [
    "#audio, samplerate = sf.read('tecla.wav')"
   ]
  },
  {
   "cell_type": "code",
   "execution_count": 59,
   "metadata": {},
   "outputs": [],
   "source": [
    "#sd.play(audio)"
   ]
  },
  {
   "cell_type": "code",
   "execution_count": 60,
   "metadata": {},
   "outputs": [],
   "source": [
    "# plt.plot(audio)\n",
    "# plt.title(\"Onda musical no tempo\")\n",
    "# plt.grid()"
   ]
  },
  {
   "cell_type": "code",
   "execution_count": 61,
   "metadata": {},
   "outputs": [],
   "source": [
    "# x, y = signal.calcFFT(audio,fs)"
   ]
  },
  {
   "cell_type": "code",
   "execution_count": 62,
   "metadata": {},
   "outputs": [],
   "source": [
    "# signal.plotFFT(audio,fs)"
   ]
  },
  {
   "cell_type": "code",
   "execution_count": 63,
   "metadata": {},
   "outputs": [
    {
     "name": "stdout",
     "output_type": "stream",
     "text": [
      "Starting in 3...\n",
      "Starting in 2...\n",
      "Starting in 1...\n",
      "agora\n"
     ]
    }
   ],
   "source": [
    "time.sleep(2)\n",
    "tempo = fs*3\n",
    "print(\"agora\")\n",
    "gravacao = sd.rec(int(tempo), fs, channels=1, blocking=True, dtype=\"float64\")\n",
    "sd.wait()\n",
    "\n",
    "norma = []\n",
    "for i in range(len(gravacao)):\n",
    "    norma.append(gravacao[i][0])\n",
    "x, y = signal.calcFFT(recFixed, fs)"
   ]
  },
  {
   "cell_type": "code",
   "execution_count": 64,
   "metadata": {
    "scrolled": true
   },
   "outputs": [
    {
     "data": {
      "image/png": "[encoded data removed]",
      "text/plain": [
       "<matplotlib.figure.Figure at 0x10e78eb38>"
      ]
     },
     "metadata": {},
     "output_type": "display_data"
    }
   ],
   "source": [
    "signal.plotFFT(recFixed, fs)"
   ]
  },
  {
   "cell_type": "code",
   "execution_count": 65,
   "metadata": {
    "scrolled": true
   },
   "outputs": [
    {
     "name": "stdout",
     "output_type": "stream",
     "text": [
      "index de picos [2091 3627]\n",
      "freq de pico sao 697.0105368183948\n",
      "freq de pico sao 1209.018276920286\n"
     ]
    }
   ],
   "source": [
    "freqAchadas = []\n",
    "index = peakutils.indexes(np.abs(y), thres=0.8, min_dist=50)\n",
    "print(\"index de picos {}\" .format(index))\n",
    "for freq in x[index]:\n",
    "    print(\"freq de pico sao {}\" .format(freq))\n",
    "    freqAchadas.append(freq)\n"
   ]
  },
  {
   "cell_type": "code",
   "execution_count": 66,
   "metadata": {},
   "outputs": [
    {
     "name": "stdout",
     "output_type": "stream",
     "text": [
      "A tecla precionada foi:  1\n"
     ]
    }
   ],
   "source": [
    "tolerancia = 10\n",
    "for key, value in teclas.items():\n",
    "    if (freqAchadas[0] - tolerancia  <= value[0] and freqAchadas[0] + tolerancia >= value[0] ) and (freqAchadas[1] - tolerancia <= value[1] and freqAchadas[1] + tolerancia >= value[1] ):\n",
    "        print(\"A tecla precionada foi: \", key)"
   ]
  },
  {
   "cell_type": "code",
   "execution_count": null,
   "metadata": {},
   "outputs": [],
   "source": []
  },
  {
   "cell_type": "code",
   "execution_count": null,
   "metadata": {},
   "outputs": [],
   "source": []
  },
  {
   "cell_type": "code",
   "execution_count": null,
   "metadata": {},
   "outputs": [],
   "source": []
  }
 ],
 "metadata": {
  "kernelspec": {
   "display_name": "Python 3",
   "language": "python",
   "name": "python3"
  },
  "language_info": {
   "codemirror_mode": {
    "name": "ipython",
    "version": 3
   },
   "file_extension": ".py",
   "mimetype": "text/x-python",
   "name": "python",
   "nbconvert_exporter": "python",
   "pygments_lexer": "ipython3",
   "version": "3.6.4"
  }
 },
 "nbformat": 4,
 "nbformat_minor": 2
}
